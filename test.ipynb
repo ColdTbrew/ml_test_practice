{
 "cells": [
  {
   "cell_type": "code",
   "execution_count": null,
   "metadata": {},
   "outputs": [],
   "source": [
    "엠"
   ]
  },
  {
   "cell_type": "code",
   "execution_count": 4,
   "metadata": {},
   "outputs": [
    {
     "name": "stdout",
     "output_type": "stream",
     "text": [
      "질병 정보 데이터프레임:\n",
      "  patient_id last_diagnosed_date disease_code  is_infected\n",
      "0       P001          2023-01-15          A01         True\n",
      "1       P002          2023-06-20          B02         True\n",
      "2       P003          2022-11-10          C03        False\n",
      "3       P004          2023-03-05          A01         True\n",
      "4       P005                None         None        False\n"
     ]
    }
   ],
   "source": [
    "import pandas as pd\n",
    "\n",
    "# 질병 정보 데이터프레임\n",
    "disease_data = {\n",
    "    'patient_id': ['P001', 'P002', 'P003', 'P004', 'P005'],\n",
    "    'last_diagnosed_date': ['2023-01-15', '2023-06-20', '2022-11-10', '2023-03-05', None],\n",
    "    'disease_code': ['A01', 'B02', 'C03', 'A01', None],\n",
    "    'is_infected': [True, True, False, True, False]\n",
    "}\n",
    "\n",
    "df_disease = pd.DataFrame(disease_data)\n",
    "\n",
    "# 결과 출력\n",
    "print(\"질병 정보 데이터프레임:\")\n",
    "print(df_disease)"
   ]
  },
  {
   "cell_type": "code",
   "execution_count": 2,
   "metadata": {},
   "outputs": [
    {
     "name": "stdout",
     "output_type": "stream",
     "text": [
      "\n",
      "모든 환자 ID 데이터프레임:\n",
      "  patient_id\n",
      "0       P001\n",
      "1       P002\n",
      "2       P003\n",
      "3       P004\n",
      "4       P005\n",
      "5       P006\n",
      "6       P007\n"
     ]
    }
   ],
   "source": [
    "import pandas as pd\n",
    "\n",
    "# 모든 환자 ID 데이터프레임\n",
    "id_data = {\n",
    "    'patient_id': ['P001', 'P002', 'P003', 'P004', 'P005', 'P006', 'P007']\n",
    "}\n",
    "\n",
    "df_ids = pd.DataFrame(id_data)\n",
    "\n",
    "# 결과 출력\n",
    "print(\"\\n모든 환자 ID 데이터프레임:\")\n",
    "print(df_ids)"
   ]
  },
  {
   "cell_type": "code",
   "execution_count": 3,
   "metadata": {},
   "outputs": [
    {
     "data": {
      "text/html": [
       "<div>\n",
       "<style scoped>\n",
       "    .dataframe tbody tr th:only-of-type {\n",
       "        vertical-align: middle;\n",
       "    }\n",
       "\n",
       "    .dataframe tbody tr th {\n",
       "        vertical-align: top;\n",
       "    }\n",
       "\n",
       "    .dataframe thead th {\n",
       "        text-align: right;\n",
       "    }\n",
       "</style>\n",
       "<table border=\"1\" class=\"dataframe\">\n",
       "  <thead>\n",
       "    <tr style=\"text-align: right;\">\n",
       "      <th></th>\n",
       "      <th>patient_id</th>\n",
       "      <th>last_diagnosed_date</th>\n",
       "      <th>disease_code</th>\n",
       "      <th>is_infected</th>\n",
       "    </tr>\n",
       "  </thead>\n",
       "  <tbody>\n",
       "    <tr>\n",
       "      <th>0</th>\n",
       "      <td>P001</td>\n",
       "      <td>2023-01-15</td>\n",
       "      <td>A01</td>\n",
       "      <td>True</td>\n",
       "    </tr>\n",
       "    <tr>\n",
       "      <th>1</th>\n",
       "      <td>P002</td>\n",
       "      <td>2023-06-20</td>\n",
       "      <td>B02</td>\n",
       "      <td>True</td>\n",
       "    </tr>\n",
       "    <tr>\n",
       "      <th>2</th>\n",
       "      <td>P003</td>\n",
       "      <td>2022-11-10</td>\n",
       "      <td>C03</td>\n",
       "      <td>False</td>\n",
       "    </tr>\n",
       "    <tr>\n",
       "      <th>3</th>\n",
       "      <td>P004</td>\n",
       "      <td>2023-03-05</td>\n",
       "      <td>A01</td>\n",
       "      <td>True</td>\n",
       "    </tr>\n",
       "    <tr>\n",
       "      <th>4</th>\n",
       "      <td>P005</td>\n",
       "      <td>None</td>\n",
       "      <td>None</td>\n",
       "      <td>False</td>\n",
       "    </tr>\n",
       "  </tbody>\n",
       "</table>\n",
       "</div>"
      ],
      "text/plain": [
       "  patient_id last_diagnosed_date disease_code  is_infected\n",
       "0       P001          2023-01-15          A01         True\n",
       "1       P002          2023-06-20          B02         True\n",
       "2       P003          2022-11-10          C03        False\n",
       "3       P004          2023-03-05          A01         True\n",
       "4       P005                None         None        False"
      ]
     },
     "execution_count": 3,
     "metadata": {},
     "output_type": "execute_result"
    }
   ],
   "source": [
    "df_disease"
   ]
  },
  {
   "cell_type": "code",
   "execution_count": 16,
   "metadata": {},
   "outputs": [
    {
     "name": "stdout",
     "output_type": "stream",
     "text": [
      "P001 A01 True\n",
      "P002 B02 True\n",
      "P003 C03 False\n",
      "P004 A01 True\n",
      "P005 None False\n"
     ]
    },
    {
     "data": {
      "text/plain": [
       "{'P001': 'A01', 'P002': 'B02', 'P004': 'A01'}"
      ]
     },
     "execution_count": 16,
     "metadata": {},
     "output_type": "execute_result"
    }
   ],
   "source": [
    "db = {}\n",
    "\n",
    "for  id, code, is_infected in zip(df_disease['patient_id'], df_disease['disease_code'], df_disease['is_infected']):\n",
    "    print(id, code, is_infected)\n",
    "    if is_infected == True and (id in db) == False:\n",
    "        db[id] = (code)\n",
    "\n",
    "\n",
    "db"
   ]
  },
  {
   "cell_type": "code",
   "execution_count": 17,
   "metadata": {},
   "outputs": [],
   "source": [
    "df_ids['recently_infected'] = None"
   ]
  },
  {
   "cell_type": "code",
   "execution_count": 18,
   "metadata": {},
   "outputs": [
    {
     "data": {
      "text/html": [
       "<div>\n",
       "<style scoped>\n",
       "    .dataframe tbody tr th:only-of-type {\n",
       "        vertical-align: middle;\n",
       "    }\n",
       "\n",
       "    .dataframe tbody tr th {\n",
       "        vertical-align: top;\n",
       "    }\n",
       "\n",
       "    .dataframe thead th {\n",
       "        text-align: right;\n",
       "    }\n",
       "</style>\n",
       "<table border=\"1\" class=\"dataframe\">\n",
       "  <thead>\n",
       "    <tr style=\"text-align: right;\">\n",
       "      <th></th>\n",
       "      <th>patient_id</th>\n",
       "      <th>recently_infected</th>\n",
       "    </tr>\n",
       "  </thead>\n",
       "  <tbody>\n",
       "    <tr>\n",
       "      <th>0</th>\n",
       "      <td>P001</td>\n",
       "      <td>None</td>\n",
       "    </tr>\n",
       "    <tr>\n",
       "      <th>1</th>\n",
       "      <td>P002</td>\n",
       "      <td>None</td>\n",
       "    </tr>\n",
       "    <tr>\n",
       "      <th>2</th>\n",
       "      <td>P003</td>\n",
       "      <td>None</td>\n",
       "    </tr>\n",
       "    <tr>\n",
       "      <th>3</th>\n",
       "      <td>P004</td>\n",
       "      <td>None</td>\n",
       "    </tr>\n",
       "    <tr>\n",
       "      <th>4</th>\n",
       "      <td>P005</td>\n",
       "      <td>None</td>\n",
       "    </tr>\n",
       "    <tr>\n",
       "      <th>5</th>\n",
       "      <td>P006</td>\n",
       "      <td>None</td>\n",
       "    </tr>\n",
       "    <tr>\n",
       "      <th>6</th>\n",
       "      <td>P007</td>\n",
       "      <td>None</td>\n",
       "    </tr>\n",
       "  </tbody>\n",
       "</table>\n",
       "</div>"
      ],
      "text/plain": [
       "  patient_id recently_infected\n",
       "0       P001              None\n",
       "1       P002              None\n",
       "2       P003              None\n",
       "3       P004              None\n",
       "4       P005              None\n",
       "5       P006              None\n",
       "6       P007              None"
      ]
     },
     "execution_count": 18,
     "metadata": {},
     "output_type": "execute_result"
    }
   ],
   "source": [
    "df_ids"
   ]
  },
  {
   "cell_type": "code",
   "execution_count": 20,
   "metadata": {},
   "outputs": [
    {
     "data": {
      "text/html": [
       "<div>\n",
       "<style scoped>\n",
       "    .dataframe tbody tr th:only-of-type {\n",
       "        vertical-align: middle;\n",
       "    }\n",
       "\n",
       "    .dataframe tbody tr th {\n",
       "        vertical-align: top;\n",
       "    }\n",
       "\n",
       "    .dataframe thead th {\n",
       "        text-align: right;\n",
       "    }\n",
       "</style>\n",
       "<table border=\"1\" class=\"dataframe\">\n",
       "  <thead>\n",
       "    <tr style=\"text-align: right;\">\n",
       "      <th></th>\n",
       "      <th>patient_id</th>\n",
       "      <th>recently_infected</th>\n",
       "    </tr>\n",
       "  </thead>\n",
       "  <tbody>\n",
       "    <tr>\n",
       "      <th>0</th>\n",
       "      <td>P001</td>\n",
       "      <td>A01</td>\n",
       "    </tr>\n",
       "    <tr>\n",
       "      <th>1</th>\n",
       "      <td>P002</td>\n",
       "      <td>B02</td>\n",
       "    </tr>\n",
       "    <tr>\n",
       "      <th>2</th>\n",
       "      <td>P003</td>\n",
       "      <td>Healthy</td>\n",
       "    </tr>\n",
       "    <tr>\n",
       "      <th>3</th>\n",
       "      <td>P004</td>\n",
       "      <td>A01</td>\n",
       "    </tr>\n",
       "    <tr>\n",
       "      <th>4</th>\n",
       "      <td>P005</td>\n",
       "      <td>Healthy</td>\n",
       "    </tr>\n",
       "    <tr>\n",
       "      <th>5</th>\n",
       "      <td>P006</td>\n",
       "      <td>Healthy</td>\n",
       "    </tr>\n",
       "    <tr>\n",
       "      <th>6</th>\n",
       "      <td>P007</td>\n",
       "      <td>Healthy</td>\n",
       "    </tr>\n",
       "  </tbody>\n",
       "</table>\n",
       "</div>"
      ],
      "text/plain": [
       "  patient_id recently_infected\n",
       "0       P001               A01\n",
       "1       P002               B02\n",
       "2       P003           Healthy\n",
       "3       P004               A01\n",
       "4       P005           Healthy\n",
       "5       P006           Healthy\n",
       "6       P007           Healthy"
      ]
     },
     "execution_count": 20,
     "metadata": {},
     "output_type": "execute_result"
    }
   ],
   "source": [
    "for idx, (id, infected) in enumerate(zip(df_ids['patient_id'], df_ids['recently_infected'])):\n",
    "    if id in db:\n",
    "        # print(db[id])\n",
    "        df_ids.at[idx, 'recently_infected'] = db[id]\n",
    "    else:\n",
    "        df_ids.at[idx, 'recently_infected'] = \"Healthy\"\n",
    "\n",
    "df_ids"
   ]
  },
  {
   "cell_type": "code",
   "execution_count": 21,
   "metadata": {},
   "outputs": [
    {
     "name": "stdout",
     "output_type": "stream",
     "text": [
      "  patient_id recently_infected recently_infected2\n",
      "0       P001               A01                A01\n",
      "1       P002               B02                B02\n",
      "2       P003           Healthy            Healthy\n",
      "3       P004               A01                A01\n",
      "4       P005           Healthy            Healthy\n",
      "5       P006           Healthy            Healthy\n",
      "6       P007           Healthy            Healthy\n"
     ]
    }
   ],
   "source": [
    "df_ids['recently_infected2'] = df_ids['patient_id'].apply(lambda x: db.get(x, 'Healthy'))\n",
    "print(df_ids)"
   ]
  },
  {
   "cell_type": "code",
   "execution_count": null,
   "metadata": {},
   "outputs": [],
   "source": []
  }
 ],
 "metadata": {
  "kernelspec": {
   "display_name": "base",
   "language": "python",
   "name": "python3"
  },
  "language_info": {
   "codemirror_mode": {
    "name": "ipython",
    "version": 3
   },
   "file_extension": ".py",
   "mimetype": "text/x-python",
   "name": "python",
   "nbconvert_exporter": "python",
   "pygments_lexer": "ipython3",
   "version": "3.11.8"
  }
 },
 "nbformat": 4,
 "nbformat_minor": 4
}
